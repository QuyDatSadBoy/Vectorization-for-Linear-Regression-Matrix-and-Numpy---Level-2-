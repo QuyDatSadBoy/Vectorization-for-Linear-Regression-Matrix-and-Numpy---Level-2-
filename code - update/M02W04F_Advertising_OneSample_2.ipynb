{
 "cells": [
  {
   "cell_type": "code",
   "execution_count": 1,
   "metadata": {},
   "outputs": [],
   "source": [
    "# dataset\n",
    "import numpy as np\n",
    "from numpy import genfromtxt\n",
    "import matplotlib.pyplot as plt\n",
    "\n",
    "data = genfromtxt('advertising.csv', delimiter=',', skip_header=1)\n",
    "\n",
    "N = data.shape[0]\n",
    "X = data[:,:3]\n",
    "y = data[:,3:]\n",
    "\n",
    "X_b = np.hstack((np.ones((N, 1)), X))"
   ]
  },
  {
   "cell_type": "code",
   "execution_count": 2,
   "metadata": {},
   "outputs": [
    {
     "name": "stdout",
     "output_type": "stream",
     "text": [
      "(200, 4)\n",
      "[[  1.  230.1  37.8  69.2]\n",
      " [  1.   44.5  39.3  45.1]\n",
      " [  1.   17.2  45.9  69.3]\n",
      " [  1.  151.5  41.3  58.5]\n",
      " [  1.  180.8  10.8  58.4]]\n"
     ]
    }
   ],
   "source": [
    "print(X_b.shape)\n",
    "print(X_b[:5])"
   ]
  },
  {
   "cell_type": "code",
   "execution_count": 3,
   "metadata": {},
   "outputs": [
    {
     "name": "stdout",
     "output_type": "stream",
     "text": [
      "(200, 1)\n",
      "[[22.1]\n",
      " [10.4]\n",
      " [12. ]\n",
      " [16.5]\n",
      " [17.9]]\n"
     ]
    }
   ],
   "source": [
    "print(y.shape)\n",
    "print(y[:5])"
   ]
  },
  {
   "cell_type": "code",
   "execution_count": null,
   "metadata": {},
   "outputs": [],
   "source": []
  },
  {
   "cell_type": "code",
   "execution_count": 8,
   "metadata": {},
   "outputs": [],
   "source": [
    "n_epochs = 50\n",
    "learning_rate = 0.00001\n",
    "\n",
    "# khởi tạo giá trị tham số\n",
    "thetas = np.random.randn(4, 1)\n",
    "\n",
    "thetas_path = [thetas]\n",
    "losses = []\n",
    "\n",
    "for epoch in range(n_epochs):\n",
    "    for i in range(N):\n",
    "        # lấy 1 sample            \n",
    "        xi = X_b[i]        \n",
    "        xi = np.reshape(xi, (4, 1))\n",
    "        yi = y[i:i+1]\n",
    "\n",
    "        # tính output \n",
    "        y_hat = xi.T.dot(thetas)\n",
    "\n",
    "        # tính loss li\n",
    "        li = (y_hat - yi)*(y_hat - yi)\n",
    "\n",
    "        # tính gradient cho loss\n",
    "        g_li = 2*(y_hat - yi)\n",
    "\n",
    "        # tính gradient \n",
    "        gradients = xi*(g_li)\n",
    "\n",
    "        # update giá trị theta\n",
    "        thetas = thetas - learning_rate*gradients\n",
    "\n",
    "        # logging\n",
    "        thetas_path.append(thetas)            \n",
    "        losses.append(li[0][0])"
   ]
  },
  {
   "cell_type": "code",
   "execution_count": null,
   "metadata": {},
   "outputs": [],
   "source": []
  },
  {
   "cell_type": "code",
   "execution_count": 9,
   "metadata": {},
   "outputs": [
    {
     "data": {
      "image/png": "[encoded data removed]",
      "text/plain": [
       "<Figure size 640x480 with 1 Axes>"
      ]
     },
     "metadata": {},
     "output_type": "display_data"
    }
   ],
   "source": [
    "import matplotlib.pyplot as plt\n",
    "# in loss cho 500 sample đầu\n",
    "x_axis = list(range(500))\n",
    "plt.plot(x_axis,losses[:500], color=\"r\")\n",
    "plt.show()"
   ]
  },
  {
   "cell_type": "code",
   "execution_count": null,
   "metadata": {},
   "outputs": [],
   "source": []
  }
 ],
 "metadata": {
  "kernelspec": {
   "display_name": "Python 3 (ipykernel)",
   "language": "python",
   "name": "python3"
  },
  "language_info": {
   "codemirror_mode": {
    "name": "ipython",
    "version": 3
   },
   "file_extension": ".py",
   "mimetype": "text/x-python",
   "name": "python",
   "nbconvert_exporter": "python",
   "pygments_lexer": "ipython3",
   "version": "3.9.13"
  }
 },
 "nbformat": 4,
 "nbformat_minor": 2
}
